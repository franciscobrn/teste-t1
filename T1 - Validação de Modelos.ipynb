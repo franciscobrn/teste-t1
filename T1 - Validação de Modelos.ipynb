{
 "cells": [
  {
   "cell_type": "code",
   "execution_count": 3,
   "id": "8779b982",
   "metadata": {},
   "outputs": [],
   "source": [
    "import pandas as pd\n",
    "from sklearn.model_selection import train_test_split"
   ]
  },
  {
   "cell_type": "code",
   "execution_count": 4,
   "id": "09a2854b",
   "metadata": {},
   "outputs": [],
   "source": [
    "base = pd.read_excel('Base Dados.xlsx')"
   ]
  },
  {
   "cell_type": "code",
   "execution_count": 6,
   "id": "93d1b0da",
   "metadata": {},
   "outputs": [],
   "source": [
    "x = pd.DataFrame(base[['VAL_SH',\n",
    "                       'VAL_SP',\n",
    "                       'QT_DIARIAS',\n",
    "                      'DIAR_ACOM']]) \n",
    "y = base['MORTE']"
   ]
  },
  {
   "cell_type": "code",
   "execution_count": 8,
   "id": "2c9be6a3",
   "metadata": {},
   "outputs": [],
   "source": [
    "X_train, X_test, y_train, y_test = train_test_split(x,\n",
    "                                                    y,\n",
    "                                                   train_size=0.7,\n",
    "                                                   random_state=0)"
   ]
  },
  {
   "cell_type": "markdown",
   "id": "e7788297",
   "metadata": {},
   "source": [
    "#### Treinar modelo"
   ]
  },
  {
   "cell_type": "code",
   "execution_count": 9,
   "id": "1ca4b6f2",
   "metadata": {},
   "outputs": [],
   "source": [
    "from sklearn.tree import DecisionTreeClassifier"
   ]
  },
  {
   "cell_type": "code",
   "execution_count": 12,
   "id": "90a2335c",
   "metadata": {},
   "outputs": [],
   "source": [
    "modelo_ar = DecisionTreeClassifier()\n",
    "modelo_ar = modelo_ar.fit(X_train, y_train)\n",
    "y_pred_ar = modelo_ar.predict(X_test)"
   ]
  },
  {
   "cell_type": "code",
   "execution_count": 13,
   "id": "75834c84",
   "metadata": {},
   "outputs": [
    {
     "data": {
      "text/plain": [
       "array([[4875,  444],\n",
       "       [ 428,  253]], dtype=int64)"
      ]
     },
     "execution_count": 13,
     "metadata": {},
     "output_type": "execute_result"
    }
   ],
   "source": [
    "from sklearn import metrics\n",
    "\n",
    "metrics.confusion_matrix(y_test,y_pred_ar)"
   ]
  },
  {
   "cell_type": "code",
   "execution_count": 15,
   "id": "d952feff",
   "metadata": {},
   "outputs": [
    {
     "data": {
      "text/plain": [
       "(6000,)"
      ]
     },
     "execution_count": 15,
     "metadata": {},
     "output_type": "execute_result"
    }
   ],
   "source": [
    "y_test.shape"
   ]
  },
  {
   "cell_type": "code",
   "execution_count": 17,
   "id": "acae0881",
   "metadata": {},
   "outputs": [
    {
     "name": "stdout",
     "output_type": "stream",
     "text": [
      "              precision    recall  f1-score   support\n",
      "\n",
      "           0       0.92      0.92      0.92      5319\n",
      "           1       0.36      0.37      0.37       681\n",
      "\n",
      "    accuracy                           0.85      6000\n",
      "   macro avg       0.64      0.64      0.64      6000\n",
      "weighted avg       0.86      0.85      0.86      6000\n",
      "\n"
     ]
    }
   ],
   "source": [
    "print(metrics.classification_report(y_test,y_pred_ar))"
   ]
  },
  {
   "cell_type": "markdown",
   "id": "c7ee119b",
   "metadata": {},
   "source": [
    "### Cross-validation"
   ]
  },
  {
   "cell_type": "markdown",
   "id": "9ea08000",
   "metadata": {},
   "source": [
    "### K-fold"
   ]
  },
  {
   "cell_type": "code",
   "execution_count": 18,
   "id": "9361a32a",
   "metadata": {},
   "outputs": [],
   "source": [
    "from sklearn.model_selection import KFold\n",
    "from sklearn.model_selection import cross_val_score"
   ]
  },
  {
   "cell_type": "code",
   "execution_count": 20,
   "id": "7120dbef",
   "metadata": {},
   "outputs": [],
   "source": [
    "#class sklearn.model_selection.KFold(n_splits=5, *, shuffle=False, random_state=None)\n",
    "kf = KFold(shuffle=True,\n",
    "           random_state=0)"
   ]
  },
  {
   "cell_type": "code",
   "execution_count": 26,
   "id": "4dda99b7",
   "metadata": {},
   "outputs": [],
   "source": [
    "modelo_kf = DecisionTreeClassifier()\n",
    "\n",
    "score = cross_val_score(modelo_kf,\n",
    "                        X_train,\n",
    "                        y_train, \n",
    "                        cv=kf,\n",
    "                        scoring='f1')"
   ]
  },
  {
   "cell_type": "code",
   "execution_count": 27,
   "id": "67ddadac",
   "metadata": {},
   "outputs": [
    {
     "data": {
      "text/plain": [
       "0.3466947860338558"
      ]
     },
     "execution_count": 27,
     "metadata": {},
     "output_type": "execute_result"
    }
   ],
   "source": [
    "score.mean()"
   ]
  },
  {
   "cell_type": "code",
   "execution_count": 28,
   "id": "48f6eee1",
   "metadata": {},
   "outputs": [],
   "source": [
    "from sklearn.model_selection import StratifiedKFold"
   ]
  },
  {
   "cell_type": "code",
   "execution_count": 29,
   "id": "2dc35dee",
   "metadata": {},
   "outputs": [],
   "source": [
    "modelo_skf = DecisionTreeClassifier()"
   ]
  },
  {
   "cell_type": "code",
   "execution_count": 30,
   "id": "4259d81a",
   "metadata": {},
   "outputs": [],
   "source": [
    "skf = StratifiedKFold(n_splits=5)"
   ]
  },
  {
   "cell_type": "code",
   "execution_count": 31,
   "id": "2825c8b9",
   "metadata": {},
   "outputs": [],
   "source": [
    "score = cross_val_score(modelo_kf,\n",
    "                        X_train,\n",
    "                        y_train, \n",
    "                        cv=skf,\n",
    "                        scoring='f1')"
   ]
  },
  {
   "cell_type": "code",
   "execution_count": 32,
   "id": "22eaf70e",
   "metadata": {},
   "outputs": [
    {
     "data": {
      "text/plain": [
       "array([0.33647799, 0.34461538, 0.3588907 , 0.2891933 , 0.3400936 ])"
      ]
     },
     "execution_count": 32,
     "metadata": {},
     "output_type": "execute_result"
    }
   ],
   "source": [
    "score"
   ]
  },
  {
   "cell_type": "markdown",
   "id": "23a76347",
   "metadata": {},
   "source": [
    "## Bootstrap"
   ]
  },
  {
   "cell_type": "code",
   "execution_count": 33,
   "id": "75d77986",
   "metadata": {},
   "outputs": [],
   "source": [
    "from sklearn.model_selection import ShuffleSplit"
   ]
  },
  {
   "cell_type": "code",
   "execution_count": 34,
   "id": "553539e1",
   "metadata": {},
   "outputs": [],
   "source": [
    "modelo_sp = DecisionTreeClassifier()"
   ]
  },
  {
   "cell_type": "code",
   "execution_count": null,
   "id": "c274f9b0",
   "metadata": {},
   "outputs": [],
   "source": [
    "#ShuffleSplit(n_splits=10, *, test_size=None, train_size=None, random_state=None)"
   ]
  },
  {
   "cell_type": "code",
   "execution_count": 36,
   "id": "9bdc2581",
   "metadata": {},
   "outputs": [],
   "source": [
    "bs = ShuffleSplit(n_splits=5,\n",
    "                 test_size=0.5,\n",
    "                 random_state=0)"
   ]
  },
  {
   "cell_type": "code",
   "execution_count": 41,
   "id": "a4a31e54",
   "metadata": {},
   "outputs": [],
   "source": [
    "score = cross_val_score(modelo_kf,\n",
    "                        X_train,\n",
    "                        y_train, \n",
    "                        cv=bs,\n",
    "                        scoring='f1')"
   ]
  },
  {
   "cell_type": "code",
   "execution_count": 42,
   "id": "f63e190e",
   "metadata": {},
   "outputs": [
    {
     "data": {
      "text/plain": [
       "0.3295997439780313"
      ]
     },
     "execution_count": 42,
     "metadata": {},
     "output_type": "execute_result"
    }
   ],
   "source": [
    "score.mean()"
   ]
  },
  {
   "cell_type": "markdown",
   "id": "8cb4ea80",
   "metadata": {},
   "source": [
    "## Grid Search"
   ]
  },
  {
   "cell_type": "code",
   "execution_count": 43,
   "id": "eaed74b9",
   "metadata": {},
   "outputs": [],
   "source": [
    "from sklearn.model_selection import GridSearchCV"
   ]
  },
  {
   "cell_type": "code",
   "execution_count": 56,
   "id": "4603a935",
   "metadata": {},
   "outputs": [],
   "source": [
    "modelo_ar = DecisionTreeClassifier(random_state=0)"
   ]
  },
  {
   "cell_type": "code",
   "execution_count": 77,
   "id": "8df1a04b",
   "metadata": {},
   "outputs": [],
   "source": [
    "param_grid = {'max_depth':range(60),\n",
    "              'min_samples_split':[10]}"
   ]
  },
  {
   "cell_type": "code",
   "execution_count": 102,
   "id": "184d7b3d",
   "metadata": {},
   "outputs": [],
   "source": [
    "grid_search = GridSearchCV(modelo_ar,\n",
    "                           param_grid,\n",
    "                           cv=5,\n",
    "                           scoring='recall')"
   ]
  },
  {
   "cell_type": "code",
   "execution_count": 103,
   "id": "d4824463",
   "metadata": {},
   "outputs": [
    {
     "name": "stderr",
     "output_type": "stream",
     "text": [
      "C:\\Users\\ander\\anaconda3\\lib\\site-packages\\sklearn\\model_selection\\_validation.py:372: FitFailedWarning: \n",
      "5 fits failed out of a total of 300.\n",
      "The score on these train-test partitions for these parameters will be set to nan.\n",
      "If these failures are not expected, you can try to debug them by setting error_score='raise'.\n",
      "\n",
      "Below are more details about the failures:\n",
      "--------------------------------------------------------------------------------\n",
      "5 fits failed with the following error:\n",
      "Traceback (most recent call last):\n",
      "  File \"C:\\Users\\ander\\anaconda3\\lib\\site-packages\\sklearn\\model_selection\\_validation.py\", line 680, in _fit_and_score\n",
      "    estimator.fit(X_train, y_train, **fit_params)\n",
      "  File \"C:\\Users\\ander\\anaconda3\\lib\\site-packages\\sklearn\\tree\\_classes.py\", line 937, in fit\n",
      "    super().fit(\n",
      "  File \"C:\\Users\\ander\\anaconda3\\lib\\site-packages\\sklearn\\tree\\_classes.py\", line 306, in fit\n",
      "    raise ValueError(\"max_depth must be greater than zero. \")\n",
      "ValueError: max_depth must be greater than zero. \n",
      "\n",
      "  warnings.warn(some_fits_failed_message, FitFailedWarning)\n",
      "C:\\Users\\ander\\anaconda3\\lib\\site-packages\\sklearn\\model_selection\\_search.py:969: UserWarning: One or more of the test scores are non-finite: [       nan 0.         0.         0.01820351 0.03644644 0.03892273\n",
      " 0.07159559 0.09355099 0.11929181 0.1406242  0.16070661 0.18960194\n",
      " 0.20402989 0.21030342 0.22098342 0.23479624 0.24233946 0.2523787\n",
      " 0.25613651 0.26995919 0.2705684  0.28062341 0.28375229 0.29253564\n",
      " 0.29442637 0.29505727 0.29568818 0.29504742 0.30008281 0.29819404\n",
      " 0.29944796 0.30070188 0.30383668 0.30194988 0.30132884 0.3019558\n",
      " 0.29944007 0.3025867  0.29818418 0.30007492 0.29881311 0.29819207\n",
      " 0.29692829 0.30258473 0.3019558  0.29944007 0.29756117 0.29881311\n",
      " 0.29630133 0.29693815 0.30069991 0.29441454 0.30196171 0.29442834\n",
      " 0.30069596 0.30510439 0.29630528 0.30007295 0.30007689 0.29881509]\n",
      "  warnings.warn(\n"
     ]
    },
    {
     "data": {
      "text/plain": [
       "GridSearchCV(cv=5,\n",
       "             estimator=DecisionTreeClassifier(max_depth=8,\n",
       "                                              min_samples_split=10),\n",
       "             param_grid={'max_depth': range(0, 60), 'min_samples_split': [10]},\n",
       "             scoring='recall')"
      ]
     },
     "execution_count": 103,
     "metadata": {},
     "output_type": "execute_result"
    }
   ],
   "source": [
    "grid_search.fit(X_train,y_train)"
   ]
  },
  {
   "cell_type": "code",
   "execution_count": 104,
   "id": "89b6a539",
   "metadata": {},
   "outputs": [],
   "source": [
    "melhores_param = grid_search.best_estimator_"
   ]
  },
  {
   "cell_type": "code",
   "execution_count": 105,
   "id": "37ba5244",
   "metadata": {},
   "outputs": [
    {
     "data": {
      "text/plain": [
       "DecisionTreeClassifier(max_depth=55, min_samples_split=10)"
      ]
     },
     "execution_count": 105,
     "metadata": {},
     "output_type": "execute_result"
    }
   ],
   "source": [
    "melhores_param"
   ]
  },
  {
   "cell_type": "code",
   "execution_count": 109,
   "id": "5f6e7cab",
   "metadata": {},
   "outputs": [],
   "source": [
    "y_pred = grid_search.predict(X_test)"
   ]
  },
  {
   "cell_type": "code",
   "execution_count": 110,
   "id": "badbb4d3",
   "metadata": {},
   "outputs": [],
   "source": [
    "from sklearn import metrics"
   ]
  },
  {
   "cell_type": "code",
   "execution_count": 111,
   "id": "186e16da",
   "metadata": {},
   "outputs": [
    {
     "name": "stdout",
     "output_type": "stream",
     "text": [
      "              precision    recall  f1-score   support\n",
      "\n",
      "           0       0.92      0.93      0.92      5319\n",
      "           1       0.37      0.33      0.35       681\n",
      "\n",
      "    accuracy                           0.86      6000\n",
      "   macro avg       0.64      0.63      0.64      6000\n",
      "weighted avg       0.85      0.86      0.86      6000\n",
      "\n"
     ]
    }
   ],
   "source": [
    "print(metrics.classification_report(y_test,y_pred))"
   ]
  },
  {
   "cell_type": "markdown",
   "id": "132d5132",
   "metadata": {},
   "source": [
    "### Random Forest"
   ]
  },
  {
   "cell_type": "code",
   "execution_count": 113,
   "id": "d3bb8d93",
   "metadata": {},
   "outputs": [],
   "source": [
    "from sklearn.ensemble import RandomForestClassifier"
   ]
  },
  {
   "cell_type": "code",
   "execution_count": 133,
   "id": "e2b94bee",
   "metadata": {},
   "outputs": [],
   "source": [
    "modelo_rf = RandomForestClassifier(n_estimators=100,\n",
    "                                  random_state=0)"
   ]
  },
  {
   "cell_type": "code",
   "execution_count": 134,
   "id": "84fd9318",
   "metadata": {},
   "outputs": [
    {
     "data": {
      "text/plain": [
       "RandomForestClassifier(random_state=0)"
      ]
     },
     "execution_count": 134,
     "metadata": {},
     "output_type": "execute_result"
    }
   ],
   "source": [
    "modelo_rf.fit(X_train,y_train)"
   ]
  },
  {
   "cell_type": "code",
   "execution_count": 135,
   "id": "a03e90a7",
   "metadata": {},
   "outputs": [],
   "source": [
    "y_pred = modelo_rf.predict(X_test)"
   ]
  },
  {
   "cell_type": "code",
   "execution_count": 136,
   "id": "68c5eefb",
   "metadata": {},
   "outputs": [
    {
     "name": "stdout",
     "output_type": "stream",
     "text": [
      "              precision    recall  f1-score   support\n",
      "\n",
      "           0       0.91      0.97      0.94      5319\n",
      "           1       0.50      0.26      0.34       681\n",
      "\n",
      "    accuracy                           0.89      6000\n",
      "   macro avg       0.70      0.61      0.64      6000\n",
      "weighted avg       0.86      0.89      0.87      6000\n",
      "\n"
     ]
    }
   ],
   "source": [
    "print(metrics.classification_report(y_test,y_pred))"
   ]
  },
  {
   "cell_type": "code",
   "execution_count": 141,
   "id": "8636b152",
   "metadata": {},
   "outputs": [],
   "source": [
    "importancia = pd.DataFrame({\n",
    "\n",
    "    'nome': modelo_rf.feature_names_in_,\n",
    "    'importancia': modelo_rf.feature_importances_\n",
    "})"
   ]
  },
  {
   "cell_type": "code",
   "execution_count": 142,
   "id": "7003b0fb",
   "metadata": {},
   "outputs": [
    {
     "data": {
      "text/html": [
       "<div>\n",
       "<style scoped>\n",
       "    .dataframe tbody tr th:only-of-type {\n",
       "        vertical-align: middle;\n",
       "    }\n",
       "\n",
       "    .dataframe tbody tr th {\n",
       "        vertical-align: top;\n",
       "    }\n",
       "\n",
       "    .dataframe thead th {\n",
       "        text-align: right;\n",
       "    }\n",
       "</style>\n",
       "<table border=\"1\" class=\"dataframe\">\n",
       "  <thead>\n",
       "    <tr style=\"text-align: right;\">\n",
       "      <th></th>\n",
       "      <th>nome</th>\n",
       "      <th>importancia</th>\n",
       "    </tr>\n",
       "  </thead>\n",
       "  <tbody>\n",
       "    <tr>\n",
       "      <th>0</th>\n",
       "      <td>VAL_SH</td>\n",
       "      <td>0.449264</td>\n",
       "    </tr>\n",
       "    <tr>\n",
       "      <th>1</th>\n",
       "      <td>VAL_SP</td>\n",
       "      <td>0.360285</td>\n",
       "    </tr>\n",
       "    <tr>\n",
       "      <th>2</th>\n",
       "      <td>QT_DIARIAS</td>\n",
       "      <td>0.139576</td>\n",
       "    </tr>\n",
       "    <tr>\n",
       "      <th>3</th>\n",
       "      <td>DIAR_ACOM</td>\n",
       "      <td>0.050875</td>\n",
       "    </tr>\n",
       "  </tbody>\n",
       "</table>\n",
       "</div>"
      ],
      "text/plain": [
       "         nome  importancia\n",
       "0      VAL_SH     0.449264\n",
       "1      VAL_SP     0.360285\n",
       "2  QT_DIARIAS     0.139576\n",
       "3   DIAR_ACOM     0.050875"
      ]
     },
     "execution_count": 142,
     "metadata": {},
     "output_type": "execute_result"
    }
   ],
   "source": [
    "importancia"
   ]
  },
  {
   "cell_type": "code",
   "execution_count": null,
   "id": "6ea8d194",
   "metadata": {},
   "outputs": [],
   "source": []
  }
 ],
 "metadata": {
  "kernelspec": {
   "display_name": "Python 3 (ipykernel)",
   "language": "python",
   "name": "python3"
  },
  "language_info": {
   "codemirror_mode": {
    "name": "ipython",
    "version": 3
   },
   "file_extension": ".py",
   "mimetype": "text/x-python",
   "name": "python",
   "nbconvert_exporter": "python",
   "pygments_lexer": "ipython3",
   "version": "3.9.13"
  }
 },
 "nbformat": 4,
 "nbformat_minor": 5
}
